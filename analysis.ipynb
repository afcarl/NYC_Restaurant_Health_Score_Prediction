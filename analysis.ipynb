{
 "cells": [
  {
   "cell_type": "code",
   "execution_count": 1,
   "metadata": {
    "collapsed": false
   },
   "outputs": [
    {
     "name": "stdout",
     "output_type": "stream",
     "text": [
      "Populating the interactive namespace from numpy and matplotlib\n"
     ]
    }
   ],
   "source": [
    "import sys\n",
    "import csv\n",
    "from scipy import stats\n",
    "import statsmodels.formula.api as smf\n",
    "import pandas as pd\n",
    "import numpy as np\n",
    "import matplotlib.pyplot as plt\n",
    "%pylab inline"
   ]
  },
  {
   "cell_type": "code",
   "execution_count": 2,
   "metadata": {
    "collapsed": true
   },
   "outputs": [],
   "source": [
    "data = pd.read_csv('data_result/Merged.csv')\n",
    "data = data.reindex(np.random.permutation(data.index))\n",
    "train = data[0:150]\n",
    "valid = data[151::]"
   ]
  },
  {
   "cell_type": "markdown",
   "metadata": {},
   "source": [
    "### Let's first do a simple regression"
   ]
  },
  {
   "cell_type": "code",
   "execution_count": 3,
   "metadata": {
    "collapsed": false
   },
   "outputs": [
    {
     "data": {
      "text/html": [
       "<table class=\"simpletable\">\n",
       "<caption>OLS Regression Results</caption>\n",
       "<tr>\n",
       "  <th>Dep. Variable:</th>        <td>avg_score</td>    <th>  R-squared:         </th> <td>   0.085</td>\n",
       "</tr>\n",
       "<tr>\n",
       "  <th>Model:</th>                   <td>OLS</td>       <th>  Adj. R-squared:    </th> <td>   0.047</td>\n",
       "</tr>\n",
       "<tr>\n",
       "  <th>Method:</th>             <td>Least Squares</td>  <th>  F-statistic:       </th> <td>   2.223</td>\n",
       "</tr>\n",
       "<tr>\n",
       "  <th>Date:</th>             <td>Tue, 10 Nov 2015</td> <th>  Prob (F-statistic):</th>  <td>0.0442</td> \n",
       "</tr>\n",
       "<tr>\n",
       "  <th>Time:</th>                 <td>13:20:48</td>     <th>  Log-Likelihood:    </th> <td> -370.74</td>\n",
       "</tr>\n",
       "<tr>\n",
       "  <th>No. Observations:</th>      <td>   150</td>      <th>  AIC:               </th> <td>   755.5</td>\n",
       "</tr>\n",
       "<tr>\n",
       "  <th>Df Residuals:</th>          <td>   143</td>      <th>  BIC:               </th> <td>   776.6</td>\n",
       "</tr>\n",
       "<tr>\n",
       "  <th>Df Model:</th>              <td>     6</td>      <th>                     </th>     <td> </td>   \n",
       "</tr>\n",
       "<tr>\n",
       "  <th>Covariance Type:</th>      <td>nonrobust</td>    <th>                     </th>     <td> </td>   \n",
       "</tr>\n",
       "</table>\n",
       "<table class=\"simpletable\">\n",
       "<tr>\n",
       "         <td></td>            <th>coef</th>     <th>std err</th>      <th>t</th>      <th>P>|t|</th> <th>[95.0% Conf. Int.]</th> \n",
       "</tr>\n",
       "<tr>\n",
       "  <th>Intercept</th>       <td>   14.3876</td> <td>    5.849</td> <td>    2.460</td> <td> 0.015</td> <td>    2.826    25.949</td>\n",
       "</tr>\n",
       "<tr>\n",
       "  <th>bar_score</th>       <td>    0.0818</td> <td>    1.316</td> <td>    0.062</td> <td> 0.951</td> <td>   -2.520     2.684</td>\n",
       "</tr>\n",
       "<tr>\n",
       "  <th>rest_score</th>      <td>   -0.0131</td> <td>    1.827</td> <td>   -0.007</td> <td> 0.994</td> <td>   -3.625     3.599</td>\n",
       "</tr>\n",
       "<tr>\n",
       "  <th>num_complaints</th>  <td>    0.0036</td> <td>    0.003</td> <td>    1.131</td> <td> 0.260</td> <td>   -0.003     0.010</td>\n",
       "</tr>\n",
       "<tr>\n",
       "  <th>num_restaurants</th> <td>   -0.0372</td> <td>    0.020</td> <td>   -1.882</td> <td> 0.062</td> <td>   -0.076     0.002</td>\n",
       "</tr>\n",
       "<tr>\n",
       "  <th>num_violations</th>  <td>    0.0014</td> <td>    0.004</td> <td>    0.352</td> <td> 0.725</td> <td>   -0.006     0.009</td>\n",
       "</tr>\n",
       "<tr>\n",
       "  <th>num_Cviolations</th> <td>    0.0007</td> <td>    0.006</td> <td>    0.125</td> <td> 0.900</td> <td>   -0.011     0.012</td>\n",
       "</tr>\n",
       "</table>\n",
       "<table class=\"simpletable\">\n",
       "<tr>\n",
       "  <th>Omnibus:</th>       <td>61.533</td> <th>  Durbin-Watson:     </th> <td>   2.154</td>\n",
       "</tr>\n",
       "<tr>\n",
       "  <th>Prob(Omnibus):</th> <td> 0.000</td> <th>  Jarque-Bera (JB):  </th> <td> 265.190</td>\n",
       "</tr>\n",
       "<tr>\n",
       "  <th>Skew:</th>          <td>-1.451</td> <th>  Prob(JB):          </th> <td>2.60e-58</td>\n",
       "</tr>\n",
       "<tr>\n",
       "  <th>Kurtosis:</th>      <td> 8.832</td> <th>  Cond. No.          </th> <td>9.39e+04</td>\n",
       "</tr>\n",
       "</table>"
      ],
      "text/plain": [
       "<class 'statsmodels.iolib.summary.Summary'>\n",
       "\"\"\"\n",
       "                            OLS Regression Results                            \n",
       "==============================================================================\n",
       "Dep. Variable:              avg_score   R-squared:                       0.085\n",
       "Model:                            OLS   Adj. R-squared:                  0.047\n",
       "Method:                 Least Squares   F-statistic:                     2.223\n",
       "Date:                Tue, 10 Nov 2015   Prob (F-statistic):             0.0442\n",
       "Time:                        13:20:48   Log-Likelihood:                -370.74\n",
       "No. Observations:                 150   AIC:                             755.5\n",
       "Df Residuals:                     143   BIC:                             776.6\n",
       "Df Model:                           6                                         \n",
       "Covariance Type:            nonrobust                                         \n",
       "===================================================================================\n",
       "                      coef    std err          t      P>|t|      [95.0% Conf. Int.]\n",
       "-----------------------------------------------------------------------------------\n",
       "Intercept          14.3876      5.849      2.460      0.015         2.826    25.949\n",
       "bar_score           0.0818      1.316      0.062      0.951        -2.520     2.684\n",
       "rest_score         -0.0131      1.827     -0.007      0.994        -3.625     3.599\n",
       "num_complaints      0.0036      0.003      1.131      0.260        -0.003     0.010\n",
       "num_restaurants    -0.0372      0.020     -1.882      0.062        -0.076     0.002\n",
       "num_violations      0.0014      0.004      0.352      0.725        -0.006     0.009\n",
       "num_Cviolations     0.0007      0.006      0.125      0.900        -0.011     0.012\n",
       "==============================================================================\n",
       "Omnibus:                       61.533   Durbin-Watson:                   2.154\n",
       "Prob(Omnibus):                  0.000   Jarque-Bera (JB):              265.190\n",
       "Skew:                          -1.451   Prob(JB):                     2.60e-58\n",
       "Kurtosis:                       8.832   Cond. No.                     9.39e+04\n",
       "==============================================================================\n",
       "\n",
       "Warnings:\n",
       "[1] Standard Errors assume that the covariance matrix of the errors is correctly specified.\n",
       "[2] The condition number is large, 9.39e+04. This might indicate that there are\n",
       "strong multicollinearity or other numerical problems.\n",
       "\"\"\""
      ]
     },
     "execution_count": 3,
     "metadata": {},
     "output_type": "execute_result"
    }
   ],
   "source": [
    "formstr='avg_score ~ bar_score+rest_score+num_complaints+num_restaurants+num_violations+num_Cviolations'\n",
    "lm = smf.ols(formula=formstr, data = train).fit()\n",
    "lm.summary()"
   ]
  },
  {
   "cell_type": "code",
   "execution_count": 4,
   "metadata": {
    "collapsed": false
   },
   "outputs": [
    {
     "name": "stdout",
     "output_type": "stream",
     "text": [
      "Validation R2=0.1784763454\n"
     ]
    }
   ],
   "source": [
    "r2=[lm.rsquared]\n",
    "lmy2 = lm.predict(valid)\n",
    "R2v=1-sum(pow(lmy2-valid.avg_score,2))/sum(pow(valid.avg_score-mean(valid.avg_score),2))\n",
    "print('Validation R2={0}'.format(R2v))"
   ]
  },
  {
   "cell_type": "code",
   "execution_count": 5,
   "metadata": {
    "collapsed": false
   },
   "outputs": [
    {
     "data": {
      "text/plain": [
       "<matplotlib.text.Text at 0x10a6dcad0>"
      ]
     },
     "execution_count": 5,
     "metadata": {},
     "output_type": "execute_result"
    },
    {
     "data": {
      "image/png": "[encoded data removed]",
      "text/plain": [
       "<matplotlib.figure.Figure at 0x10a663690>"
      ]
     },
     "metadata": {},
     "output_type": "display_data"
    }
   ],
   "source": [
    "#plt.scatter(lm.predict(valid),valid.avg_score)\n",
    "#plt.plot(valid.avg_score,valid.avg_score,'r')\n",
    "plt.scatter(lm.predict(data),data.avg_score)\n",
    "plt.plot(data.avg_score,data.avg_score,'r')\n",
    "plt.title('Prediction of unnormalized data before PCA')"
   ]
  },
  {
   "cell_type": "markdown",
   "metadata": {},
   "source": [
    "### Our prediction was really week because the data aren't normalized\n",
    "### Now let's normalize the number of complaints, violations and critical violations by the number of restaurants in each zip code, resulting in complaints rate, violations rate and critical violations rate for restaurants in each zip code."
   ]
  },
  {
   "cell_type": "code",
   "execution_count": 6,
   "metadata": {
    "collapsed": false
   },
   "outputs": [],
   "source": [
    "data['comp_per_rest'] = data['num_complaints']/data['num_restaurants']\n",
    "data['vio_per_rest'] = data['num_violations']/data['num_restaurants']\n",
    "data['Cvio_per_rest'] = data['num_Cviolations']/data['num_restaurants']\n",
    "train1 = data[0:150]\n",
    "valid1 = data[151::]"
   ]
  },
  {
   "cell_type": "markdown",
   "metadata": {},
   "source": [
    "### After testing, we find out that the violations rate doesn't matter as much as the critical violations rate, so we choose to drop that."
   ]
  },
  {
   "cell_type": "code",
   "execution_count": 7,
   "metadata": {
    "collapsed": false
   },
   "outputs": [
    {
     "data": {
      "text/html": [
       "<table class=\"simpletable\">\n",
       "<caption>OLS Regression Results</caption>\n",
       "<tr>\n",
       "  <th>Dep. Variable:</th>        <td>avg_score</td>    <th>  R-squared:         </th> <td>   0.769</td>\n",
       "</tr>\n",
       "<tr>\n",
       "  <th>Model:</th>                   <td>OLS</td>       <th>  Adj. R-squared:    </th> <td>   0.762</td>\n",
       "</tr>\n",
       "<tr>\n",
       "  <th>Method:</th>             <td>Least Squares</td>  <th>  F-statistic:       </th> <td>   120.4</td>\n",
       "</tr>\n",
       "<tr>\n",
       "  <th>Date:</th>             <td>Tue, 10 Nov 2015</td> <th>  Prob (F-statistic):</th> <td>4.66e-45</td>\n",
       "</tr>\n",
       "<tr>\n",
       "  <th>Time:</th>                 <td>13:20:53</td>     <th>  Log-Likelihood:    </th> <td> -267.66</td>\n",
       "</tr>\n",
       "<tr>\n",
       "  <th>No. Observations:</th>      <td>   150</td>      <th>  AIC:               </th> <td>   545.3</td>\n",
       "</tr>\n",
       "<tr>\n",
       "  <th>Df Residuals:</th>          <td>   145</td>      <th>  BIC:               </th> <td>   560.4</td>\n",
       "</tr>\n",
       "<tr>\n",
       "  <th>Df Model:</th>              <td>     4</td>      <th>                     </th>     <td> </td>   \n",
       "</tr>\n",
       "<tr>\n",
       "  <th>Covariance Type:</th>      <td>nonrobust</td>    <th>                     </th>     <td> </td>   \n",
       "</tr>\n",
       "</table>\n",
       "<table class=\"simpletable\">\n",
       "<tr>\n",
       "        <td></td>           <th>coef</th>     <th>std err</th>      <th>t</th>      <th>P>|t|</th> <th>[95.0% Conf. Int.]</th> \n",
       "</tr>\n",
       "<tr>\n",
       "  <th>Intercept</th>     <td>   10.1688</td> <td>    2.652</td> <td>    3.834</td> <td> 0.000</td> <td>    4.927    15.411</td>\n",
       "</tr>\n",
       "<tr>\n",
       "  <th>bar_score</th>     <td>    0.5499</td> <td>    0.653</td> <td>    0.842</td> <td> 0.401</td> <td>   -0.741     1.841</td>\n",
       "</tr>\n",
       "<tr>\n",
       "  <th>rest_score</th>    <td>   -1.2294</td> <td>    0.904</td> <td>   -1.360</td> <td> 0.176</td> <td>   -3.016     0.558</td>\n",
       "</tr>\n",
       "<tr>\n",
       "  <th>comp_per_rest</th> <td>    0.1594</td> <td>    0.121</td> <td>    1.314</td> <td> 0.191</td> <td>   -0.080     0.399</td>\n",
       "</tr>\n",
       "<tr>\n",
       "  <th>Cvio_per_rest</th> <td>    0.7708</td> <td>    0.040</td> <td>   19.110</td> <td> 0.000</td> <td>    0.691     0.851</td>\n",
       "</tr>\n",
       "</table>\n",
       "<table class=\"simpletable\">\n",
       "<tr>\n",
       "  <th>Omnibus:</th>       <td>20.928</td> <th>  Durbin-Watson:     </th> <td>   2.219</td>\n",
       "</tr>\n",
       "<tr>\n",
       "  <th>Prob(Omnibus):</th> <td> 0.000</td> <th>  Jarque-Bera (JB):  </th> <td> 102.843</td>\n",
       "</tr>\n",
       "<tr>\n",
       "  <th>Skew:</th>          <td>-0.129</td> <th>  Prob(JB):          </th> <td>4.66e-23</td>\n",
       "</tr>\n",
       "<tr>\n",
       "  <th>Kurtosis:</th>      <td> 7.048</td> <th>  Cond. No.          </th> <td>    274.</td>\n",
       "</tr>\n",
       "</table>"
      ],
      "text/plain": [
       "<class 'statsmodels.iolib.summary.Summary'>\n",
       "\"\"\"\n",
       "                            OLS Regression Results                            \n",
       "==============================================================================\n",
       "Dep. Variable:              avg_score   R-squared:                       0.769\n",
       "Model:                            OLS   Adj. R-squared:                  0.762\n",
       "Method:                 Least Squares   F-statistic:                     120.4\n",
       "Date:                Tue, 10 Nov 2015   Prob (F-statistic):           4.66e-45\n",
       "Time:                        13:20:53   Log-Likelihood:                -267.66\n",
       "No. Observations:                 150   AIC:                             545.3\n",
       "Df Residuals:                     145   BIC:                             560.4\n",
       "Df Model:                           4                                         \n",
       "Covariance Type:            nonrobust                                         \n",
       "=================================================================================\n",
       "                    coef    std err          t      P>|t|      [95.0% Conf. Int.]\n",
       "---------------------------------------------------------------------------------\n",
       "Intercept        10.1688      2.652      3.834      0.000         4.927    15.411\n",
       "bar_score         0.5499      0.653      0.842      0.401        -0.741     1.841\n",
       "rest_score       -1.2294      0.904     -1.360      0.176        -3.016     0.558\n",
       "comp_per_rest     0.1594      0.121      1.314      0.191        -0.080     0.399\n",
       "Cvio_per_rest     0.7708      0.040     19.110      0.000         0.691     0.851\n",
       "==============================================================================\n",
       "Omnibus:                       20.928   Durbin-Watson:                   2.219\n",
       "Prob(Omnibus):                  0.000   Jarque-Bera (JB):              102.843\n",
       "Skew:                          -0.129   Prob(JB):                     4.66e-23\n",
       "Kurtosis:                       7.048   Cond. No.                         274.\n",
       "==============================================================================\n",
       "\n",
       "Warnings:\n",
       "[1] Standard Errors assume that the covariance matrix of the errors is correctly specified.\n",
       "\"\"\""
      ]
     },
     "execution_count": 7,
     "metadata": {},
     "output_type": "execute_result"
    }
   ],
   "source": [
    "formstr1='avg_score ~ bar_score+rest_score+comp_per_rest+Cvio_per_rest'\n",
    "#formstr1='avg_score ~ rest_score+comp_per_rest+Cvio_per_rest'\n",
    "lm1 = smf.ols(formula=formstr1, data = train1).fit()\n",
    "lm1.summary()"
   ]
  },
  {
   "cell_type": "code",
   "execution_count": 8,
   "metadata": {
    "collapsed": false
   },
   "outputs": [
    {
     "name": "stdout",
     "output_type": "stream",
     "text": [
      "Validation R2=0.767168361623\n"
     ]
    }
   ],
   "source": [
    "r2=[lm1.rsquared]\n",
    "lmy2 = lm1.predict(valid1)\n",
    "R2v=1-sum(pow(lmy2-valid1.avg_score,2))/sum(pow(valid1.avg_score-mean(valid1.avg_score),2))\n",
    "print('Validation R2={0}'.format(R2v))"
   ]
  },
  {
   "cell_type": "code",
   "execution_count": 9,
   "metadata": {
    "collapsed": false
   },
   "outputs": [
    {
     "data": {
      "text/plain": [
       "<matplotlib.text.Text at 0x10a98ebd0>"
      ]
     },
     "execution_count": 9,
     "metadata": {},
     "output_type": "execute_result"
    },
    {
     "data": {
      "image/png": "[encoded data removed]",
      "text/plain": [
       "<matplotlib.figure.Figure at 0x10a93c350>"
      ]
     },
     "metadata": {},
     "output_type": "display_data"
    }
   ],
   "source": [
    "#plt.scatter(lm1.predict(valid1),valid1.avg_score)\n",
    "#plt.plot(valid1.avg_score,valid1.avg_score,'r')\n",
    "plt.scatter(lm1.predict(data),data.avg_score)\n",
    "plt.plot(data.avg_score,data.avg_score,'r')\n",
    "plt.title('Prediction of normalized data before PCA')"
   ]
  },
  {
   "cell_type": "markdown",
   "metadata": {},
   "source": [
    "### There's significant improvement on the performance of the model after normalization\n",
    "### Now let's do a PCA for the unnormalized data and compare to our custom approach"
   ]
  },
  {
   "cell_type": "code",
   "execution_count": 10,
   "metadata": {
    "collapsed": true
   },
   "outputs": [],
   "source": [
    "Y = np.matrix(data.avg_score)\n",
    "#X = np.matrix(data[['bar_score','rest_score','comp_per_rest','Cvio_per_rest']])\n",
    "X = np.matrix(data[['bar_score','rest_score','num_complaints','num_restaurants','num_violations','num_Cviolations']])\n",
    "m=mean(X,0)\n",
    "s=std(X,0)\n",
    "X1=1.0*np.array(X)\n",
    "for i in xrange(0,6):\n",
    "    X1[:,i]=(X1[:,i]-m[0,i])/s[0,i]\n",
    "U, s, Vt = np.linalg.svd(X1) #singular value decomposition\n",
    "V = Vt.T\n",
    "#sort singular values\n",
    "ind = np.argsort(s)[::-1] \n",
    "U = U[:, ind]\n",
    "s = s[ind]\n",
    "V = V[:, ind]\n",
    "S = np.diag(s)\n",
    "P=X1*np.matrix(V)\n",
    "sc=cumsum(s**2/sum(s**2))"
   ]
  },
  {
   "cell_type": "code",
   "execution_count": 11,
   "metadata": {
    "collapsed": false
   },
   "outputs": [
    {
     "data": {
      "text/html": [
       "<table class=\"simpletable\">\n",
       "<caption>OLS Regression Results</caption>\n",
       "<tr>\n",
       "  <th>Dep. Variable:</th>            <td>Y</td>        <th>  R-squared:         </th> <td>   0.121</td>\n",
       "</tr>\n",
       "<tr>\n",
       "  <th>Model:</th>                   <td>OLS</td>       <th>  Adj. R-squared:    </th> <td>   0.097</td>\n",
       "</tr>\n",
       "<tr>\n",
       "  <th>Method:</th>             <td>Least Squares</td>  <th>  F-statistic:       </th> <td>   5.079</td>\n",
       "</tr>\n",
       "<tr>\n",
       "  <th>Date:</th>             <td>Tue, 10 Nov 2015</td> <th>  Prob (F-statistic):</th> <td>6.63e-05</td>\n",
       "</tr>\n",
       "<tr>\n",
       "  <th>Time:</th>                 <td>13:21:22</td>     <th>  Log-Likelihood:    </th> <td> -548.51</td>\n",
       "</tr>\n",
       "<tr>\n",
       "  <th>No. Observations:</th>      <td>   228</td>      <th>  AIC:               </th> <td>   1111.</td>\n",
       "</tr>\n",
       "<tr>\n",
       "  <th>Df Residuals:</th>          <td>   221</td>      <th>  BIC:               </th> <td>   1135.</td>\n",
       "</tr>\n",
       "<tr>\n",
       "  <th>Df Model:</th>              <td>     6</td>      <th>                     </th>     <td> </td>   \n",
       "</tr>\n",
       "<tr>\n",
       "  <th>Covariance Type:</th>      <td>nonrobust</td>    <th>                     </th>     <td> </td>   \n",
       "</tr>\n",
       "</table>\n",
       "<table class=\"simpletable\">\n",
       "<tr>\n",
       "      <td></td>         <th>coef</th>     <th>std err</th>      <th>t</th>      <th>P>|t|</th> <th>[95.0% Conf. Int.]</th> \n",
       "</tr>\n",
       "<tr>\n",
       "  <th>Intercept</th> <td>   15.0825</td> <td>    0.180</td> <td>   83.579</td> <td> 0.000</td> <td>   14.727    15.438</td>\n",
       "</tr>\n",
       "<tr>\n",
       "  <th>P1</th>        <td>   -0.3646</td> <td>    0.085</td> <td>   -4.300</td> <td> 0.000</td> <td>   -0.532    -0.198</td>\n",
       "</tr>\n",
       "<tr>\n",
       "  <th>P2</th>        <td>    0.0136</td> <td>    0.172</td> <td>    0.079</td> <td> 0.937</td> <td>   -0.325     0.352</td>\n",
       "</tr>\n",
       "<tr>\n",
       "  <th>P3</th>        <td>   -0.1445</td> <td>    0.338</td> <td>   -0.428</td> <td> 0.669</td> <td>   -0.811     0.522</td>\n",
       "</tr>\n",
       "<tr>\n",
       "  <th>P4</th>        <td>    0.9972</td> <td>    0.668</td> <td>    1.493</td> <td> 0.137</td> <td>   -0.319     2.313</td>\n",
       "</tr>\n",
       "<tr>\n",
       "  <th>P5</th>        <td>   -5.5073</td> <td>    1.794</td> <td>   -3.069</td> <td> 0.002</td> <td>   -9.044    -1.971</td>\n",
       "</tr>\n",
       "<tr>\n",
       "  <th>P6</th>        <td>   -3.6831</td> <td>    9.597</td> <td>   -0.384</td> <td> 0.702</td> <td>  -22.597    15.231</td>\n",
       "</tr>\n",
       "</table>\n",
       "<table class=\"simpletable\">\n",
       "<tr>\n",
       "  <th>Omnibus:</th>       <td>78.084</td> <th>  Durbin-Watson:     </th> <td>   2.085</td>\n",
       "</tr>\n",
       "<tr>\n",
       "  <th>Prob(Omnibus):</th> <td> 0.000</td> <th>  Jarque-Bera (JB):  </th> <td> 335.703</td>\n",
       "</tr>\n",
       "<tr>\n",
       "  <th>Skew:</th>          <td>-1.313</td> <th>  Prob(JB):          </th> <td>1.27e-73</td>\n",
       "</tr>\n",
       "<tr>\n",
       "  <th>Kurtosis:</th>      <td> 8.333</td> <th>  Cond. No.          </th> <td>    113.</td>\n",
       "</tr>\n",
       "</table>"
      ],
      "text/plain": [
       "<class 'statsmodels.iolib.summary.Summary'>\n",
       "\"\"\"\n",
       "                            OLS Regression Results                            \n",
       "==============================================================================\n",
       "Dep. Variable:                      Y   R-squared:                       0.121\n",
       "Model:                            OLS   Adj. R-squared:                  0.097\n",
       "Method:                 Least Squares   F-statistic:                     5.079\n",
       "Date:                Tue, 10 Nov 2015   Prob (F-statistic):           6.63e-05\n",
       "Time:                        13:21:22   Log-Likelihood:                -548.51\n",
       "No. Observations:                 228   AIC:                             1111.\n",
       "Df Residuals:                     221   BIC:                             1135.\n",
       "Df Model:                           6                                         \n",
       "Covariance Type:            nonrobust                                         \n",
       "==============================================================================\n",
       "                 coef    std err          t      P>|t|      [95.0% Conf. Int.]\n",
       "------------------------------------------------------------------------------\n",
       "Intercept     15.0825      0.180     83.579      0.000        14.727    15.438\n",
       "P1            -0.3646      0.085     -4.300      0.000        -0.532    -0.198\n",
       "P2             0.0136      0.172      0.079      0.937        -0.325     0.352\n",
       "P3            -0.1445      0.338     -0.428      0.669        -0.811     0.522\n",
       "P4             0.9972      0.668      1.493      0.137        -0.319     2.313\n",
       "P5            -5.5073      1.794     -3.069      0.002        -9.044    -1.971\n",
       "P6            -3.6831      9.597     -0.384      0.702       -22.597    15.231\n",
       "==============================================================================\n",
       "Omnibus:                       78.084   Durbin-Watson:                   2.085\n",
       "Prob(Omnibus):                  0.000   Jarque-Bera (JB):              335.703\n",
       "Skew:                          -1.313   Prob(JB):                     1.27e-73\n",
       "Kurtosis:                       8.333   Cond. No.                         113.\n",
       "==============================================================================\n",
       "\n",
       "Warnings:\n",
       "[1] Standard Errors assume that the covariance matrix of the errors is correctly specified.\n",
       "\"\"\""
      ]
     },
     "execution_count": 11,
     "metadata": {},
     "output_type": "execute_result"
    }
   ],
   "source": [
    "lmData=pd.DataFrame(P[:,:])\n",
    "lmData.columns=['P1','P2','P3','P4','P5','P6']\n",
    "lmData['Y']=Y.transpose()\n",
    "lm_pca = smf.ols(formula='Y ~ P1+P2+P3+P4+P5+P6',data=lmData).fit()\n",
    "lm_pca.summary()"
   ]
  },
  {
   "cell_type": "code",
   "execution_count": 12,
   "metadata": {
    "collapsed": false
   },
   "outputs": [
    {
     "name": "stdout",
     "output_type": "stream",
     "text": [
      "R2_PCA=0.121183714935\n"
     ]
    }
   ],
   "source": [
    "R2_pca = lm_pca.rsquared\n",
    "print('R2_PCA={0}'.format(R2_pca))"
   ]
  },
  {
   "cell_type": "code",
   "execution_count": 13,
   "metadata": {
    "collapsed": false
   },
   "outputs": [
    {
     "data": {
      "text/plain": [
       "<matplotlib.text.Text at 0x10aae77d0>"
      ]
     },
     "execution_count": 13,
     "metadata": {},
     "output_type": "execute_result"
    },
    {
     "data": {
      "image/png": "[encoded data removed]",
      "text/plain": [
       "<matplotlib.figure.Figure at 0x10a963690>"
      ]
     },
     "metadata": {},
     "output_type": "display_data"
    }
   ],
   "source": [
    "plt.scatter(lm_pca.predict(lmData),lmData.Y)\n",
    "plt.plot(lmData.Y,lmData.Y,'r')\n",
    "plt.title('Prediction of unnormalized data after PCA')"
   ]
  },
  {
   "cell_type": "markdown",
   "metadata": {},
   "source": [
    "### The result turns out to be not as good as what we may expect. Now let's drop the two weakest regressors and see if the regression fits better"
   ]
  },
  {
   "cell_type": "code",
   "execution_count": 14,
   "metadata": {
    "collapsed": false
   },
   "outputs": [
    {
     "data": {
      "text/html": [
       "<table class=\"simpletable\">\n",
       "<caption>OLS Regression Results</caption>\n",
       "<tr>\n",
       "  <th>Dep. Variable:</th>            <td>Y</td>        <th>  R-squared:         </th> <td>   0.120</td>\n",
       "</tr>\n",
       "<tr>\n",
       "  <th>Model:</th>                   <td>OLS</td>       <th>  Adj. R-squared:    </th> <td>   0.105</td>\n",
       "</tr>\n",
       "<tr>\n",
       "  <th>Method:</th>             <td>Least Squares</td>  <th>  F-statistic:       </th> <td>   7.633</td>\n",
       "</tr>\n",
       "<tr>\n",
       "  <th>Date:</th>             <td>Tue, 10 Nov 2015</td> <th>  Prob (F-statistic):</th> <td>8.82e-06</td>\n",
       "</tr>\n",
       "<tr>\n",
       "  <th>Time:</th>                 <td>13:21:29</td>     <th>  Log-Likelihood:    </th> <td> -548.61</td>\n",
       "</tr>\n",
       "<tr>\n",
       "  <th>No. Observations:</th>      <td>   228</td>      <th>  AIC:               </th> <td>   1107.</td>\n",
       "</tr>\n",
       "<tr>\n",
       "  <th>Df Residuals:</th>          <td>   223</td>      <th>  BIC:               </th> <td>   1124.</td>\n",
       "</tr>\n",
       "<tr>\n",
       "  <th>Df Model:</th>              <td>     4</td>      <th>                     </th>     <td> </td>   \n",
       "</tr>\n",
       "<tr>\n",
       "  <th>Covariance Type:</th>      <td>nonrobust</td>    <th>                     </th>     <td> </td>   \n",
       "</tr>\n",
       "</table>\n",
       "<table class=\"simpletable\">\n",
       "<tr>\n",
       "      <td></td>         <th>coef</th>     <th>std err</th>      <th>t</th>      <th>P>|t|</th> <th>[95.0% Conf. Int.]</th> \n",
       "</tr>\n",
       "<tr>\n",
       "  <th>Intercept</th> <td>   15.0825</td> <td>    0.180</td> <td>   83.920</td> <td> 0.000</td> <td>   14.728    15.437</td>\n",
       "</tr>\n",
       "<tr>\n",
       "  <th>P1</th>        <td>   -0.3646</td> <td>    0.084</td> <td>   -4.317</td> <td> 0.000</td> <td>   -0.531    -0.198</td>\n",
       "</tr>\n",
       "<tr>\n",
       "  <th>P4</th>        <td>    0.9972</td> <td>    0.665</td> <td>    1.499</td> <td> 0.135</td> <td>   -0.314     2.308</td>\n",
       "</tr>\n",
       "<tr>\n",
       "  <th>P5</th>        <td>   -5.5073</td> <td>    1.787</td> <td>   -3.082</td> <td> 0.002</td> <td>   -9.029    -1.985</td>\n",
       "</tr>\n",
       "<tr>\n",
       "  <th>P6</th>        <td>   -3.6831</td> <td>    9.558</td> <td>   -0.385</td> <td> 0.700</td> <td>  -22.519    15.153</td>\n",
       "</tr>\n",
       "</table>\n",
       "<table class=\"simpletable\">\n",
       "<tr>\n",
       "  <th>Omnibus:</th>       <td>77.837</td> <th>  Durbin-Watson:     </th> <td>   2.087</td>\n",
       "</tr>\n",
       "<tr>\n",
       "  <th>Prob(Omnibus):</th> <td> 0.000</td> <th>  Jarque-Bera (JB):  </th> <td> 334.697</td>\n",
       "</tr>\n",
       "<tr>\n",
       "  <th>Skew:</th>          <td>-1.308</td> <th>  Prob(JB):          </th> <td>2.10e-73</td>\n",
       "</tr>\n",
       "<tr>\n",
       "  <th>Kurtosis:</th>      <td> 8.328</td> <th>  Cond. No.          </th> <td>    113.</td>\n",
       "</tr>\n",
       "</table>"
      ],
      "text/plain": [
       "<class 'statsmodels.iolib.summary.Summary'>\n",
       "\"\"\"\n",
       "                            OLS Regression Results                            \n",
       "==============================================================================\n",
       "Dep. Variable:                      Y   R-squared:                       0.120\n",
       "Model:                            OLS   Adj. R-squared:                  0.105\n",
       "Method:                 Least Squares   F-statistic:                     7.633\n",
       "Date:                Tue, 10 Nov 2015   Prob (F-statistic):           8.82e-06\n",
       "Time:                        13:21:29   Log-Likelihood:                -548.61\n",
       "No. Observations:                 228   AIC:                             1107.\n",
       "Df Residuals:                     223   BIC:                             1124.\n",
       "Df Model:                           4                                         \n",
       "Covariance Type:            nonrobust                                         \n",
       "==============================================================================\n",
       "                 coef    std err          t      P>|t|      [95.0% Conf. Int.]\n",
       "------------------------------------------------------------------------------\n",
       "Intercept     15.0825      0.180     83.920      0.000        14.728    15.437\n",
       "P1            -0.3646      0.084     -4.317      0.000        -0.531    -0.198\n",
       "P4             0.9972      0.665      1.499      0.135        -0.314     2.308\n",
       "P5            -5.5073      1.787     -3.082      0.002        -9.029    -1.985\n",
       "P6            -3.6831      9.558     -0.385      0.700       -22.519    15.153\n",
       "==============================================================================\n",
       "Omnibus:                       77.837   Durbin-Watson:                   2.087\n",
       "Prob(Omnibus):                  0.000   Jarque-Bera (JB):              334.697\n",
       "Skew:                          -1.308   Prob(JB):                     2.10e-73\n",
       "Kurtosis:                       8.328   Cond. No.                         113.\n",
       "==============================================================================\n",
       "\n",
       "Warnings:\n",
       "[1] Standard Errors assume that the covariance matrix of the errors is correctly specified.\n",
       "\"\"\""
      ]
     },
     "execution_count": 14,
     "metadata": {},
     "output_type": "execute_result"
    }
   ],
   "source": [
    "lm_pca = smf.ols(formula='Y ~ P1+P4+P5+P6',data=lmData).fit()\n",
    "lm_pca.summary()"
   ]
  },
  {
   "cell_type": "code",
   "execution_count": 15,
   "metadata": {
    "collapsed": false
   },
   "outputs": [
    {
     "name": "stdout",
     "output_type": "stream",
     "text": [
      "R2_PCA=0.120431736342\n"
     ]
    }
   ],
   "source": [
    "R2_pca = lm_pca.rsquared\n",
    "print('R2_PCA={0}'.format(R2_pca))"
   ]
  },
  {
   "cell_type": "code",
   "execution_count": 16,
   "metadata": {
    "collapsed": false
   },
   "outputs": [
    {
     "data": {
      "text/plain": [
       "<matplotlib.text.Text at 0x10ac44c50>"
      ]
     },
     "execution_count": 16,
     "metadata": {},
     "output_type": "execute_result"
    },
    {
     "data": {
      "image/png": "[encoded data removed]",
      "text/plain": [
       "<matplotlib.figure.Figure at 0x10a8992d0>"
      ]
     },
     "metadata": {},
     "output_type": "display_data"
    }
   ],
   "source": [
    "plt.scatter(lm_pca.predict(lmData),lmData.Y)\n",
    "plt.plot(lmData.Y,lmData.Y,'r')\n",
    "plt.title('Prediction of unnormalized data after PCA (two regs dropped)')"
   ]
  },
  {
   "cell_type": "markdown",
   "metadata": {},
   "source": [
    "### The result didn't change that much. Therefore, it is safe to conclude that our custom approach works better than a simple PCA of the unnormalized data.\n",
    "### Now let's do a PCA for the normalized data and see if there's more room for improvement"
   ]
  },
  {
   "cell_type": "code",
   "execution_count": 17,
   "metadata": {
    "collapsed": true
   },
   "outputs": [],
   "source": [
    "Y = np.matrix(data.avg_score)\n",
    "X = np.matrix(data[['bar_score','rest_score','comp_per_rest','Cvio_per_rest']])\n",
    "m=mean(X,0)\n",
    "s=std(X,0)\n",
    "X1=1.0*np.array(X)\n",
    "for i in xrange(0,4):\n",
    "    X1[:,i]=(X1[:,i]-m[0,i])/s[0,i]\n",
    "U, s, Vt = np.linalg.svd(X1) #singular value decomposition\n",
    "V = Vt.T\n",
    "#sort singular values\n",
    "ind = np.argsort(s)[::-1] \n",
    "U = U[:, ind]\n",
    "s = s[ind]\n",
    "V = V[:, ind]\n",
    "S = np.diag(s)\n",
    "P=X1*np.matrix(V)\n",
    "sc=cumsum(s**2/sum(s**2))"
   ]
  },
  {
   "cell_type": "code",
   "execution_count": 18,
   "metadata": {
    "collapsed": false
   },
   "outputs": [
    {
     "data": {
      "text/html": [
       "<table class=\"simpletable\">\n",
       "<caption>OLS Regression Results</caption>\n",
       "<tr>\n",
       "  <th>Dep. Variable:</th>            <td>Y</td>        <th>  R-squared:         </th> <td>   0.768</td>\n",
       "</tr>\n",
       "<tr>\n",
       "  <th>Model:</th>                   <td>OLS</td>       <th>  Adj. R-squared:    </th> <td>   0.764</td>\n",
       "</tr>\n",
       "<tr>\n",
       "  <th>Method:</th>             <td>Least Squares</td>  <th>  F-statistic:       </th> <td>   184.9</td>\n",
       "</tr>\n",
       "<tr>\n",
       "  <th>Date:</th>             <td>Tue, 10 Nov 2015</td> <th>  Prob (F-statistic):</th> <td>1.33e-69</td>\n",
       "</tr>\n",
       "<tr>\n",
       "  <th>Time:</th>                 <td>13:21:51</td>     <th>  Log-Likelihood:    </th> <td> -396.53</td>\n",
       "</tr>\n",
       "<tr>\n",
       "  <th>No. Observations:</th>      <td>   228</td>      <th>  AIC:               </th> <td>   803.1</td>\n",
       "</tr>\n",
       "<tr>\n",
       "  <th>Df Residuals:</th>          <td>   223</td>      <th>  BIC:               </th> <td>   820.2</td>\n",
       "</tr>\n",
       "<tr>\n",
       "  <th>Df Model:</th>              <td>     4</td>      <th>                     </th>     <td> </td>   \n",
       "</tr>\n",
       "<tr>\n",
       "  <th>Covariance Type:</th>      <td>nonrobust</td>    <th>                     </th>     <td> </td>   \n",
       "</tr>\n",
       "</table>\n",
       "<table class=\"simpletable\">\n",
       "<tr>\n",
       "      <td></td>         <th>coef</th>     <th>std err</th>      <th>t</th>      <th>P>|t|</th> <th>[95.0% Conf. Int.]</th> \n",
       "</tr>\n",
       "<tr>\n",
       "  <th>Intercept</th> <td>   15.0825</td> <td>    0.092</td> <td>  163.514</td> <td> 0.000</td> <td>   14.901    15.264</td>\n",
       "</tr>\n",
       "<tr>\n",
       "  <th>P1</th>        <td>   -1.0740</td> <td>    0.064</td> <td>  -16.704</td> <td> 0.000</td> <td>   -1.201    -0.947</td>\n",
       "</tr>\n",
       "<tr>\n",
       "  <th>P2</th>        <td>   -1.5425</td> <td>    0.086</td> <td>  -17.869</td> <td> 0.000</td> <td>   -1.713    -1.372</td>\n",
       "</tr>\n",
       "<tr>\n",
       "  <th>P3</th>        <td>    1.4957</td> <td>    0.128</td> <td>   11.660</td> <td> 0.000</td> <td>    1.243     1.749</td>\n",
       "</tr>\n",
       "<tr>\n",
       "  <th>P4</th>        <td>    0.3973</td> <td>    0.173</td> <td>    2.292</td> <td> 0.023</td> <td>    0.056     0.739</td>\n",
       "</tr>\n",
       "</table>\n",
       "<table class=\"simpletable\">\n",
       "<tr>\n",
       "  <th>Omnibus:</th>       <td>27.820</td> <th>  Durbin-Watson:     </th> <td>   2.147</td>\n",
       "</tr>\n",
       "<tr>\n",
       "  <th>Prob(Omnibus):</th> <td> 0.000</td> <th>  Jarque-Bera (JB):  </th> <td> 155.964</td>\n",
       "</tr>\n",
       "<tr>\n",
       "  <th>Skew:</th>          <td> 0.047</td> <th>  Prob(JB):          </th> <td>1.36e-34</td>\n",
       "</tr>\n",
       "<tr>\n",
       "  <th>Kurtosis:</th>      <td> 7.051</td> <th>  Cond. No.          </th> <td>    2.70</td>\n",
       "</tr>\n",
       "</table>"
      ],
      "text/plain": [
       "<class 'statsmodels.iolib.summary.Summary'>\n",
       "\"\"\"\n",
       "                            OLS Regression Results                            \n",
       "==============================================================================\n",
       "Dep. Variable:                      Y   R-squared:                       0.768\n",
       "Model:                            OLS   Adj. R-squared:                  0.764\n",
       "Method:                 Least Squares   F-statistic:                     184.9\n",
       "Date:                Tue, 10 Nov 2015   Prob (F-statistic):           1.33e-69\n",
       "Time:                        13:21:51   Log-Likelihood:                -396.53\n",
       "No. Observations:                 228   AIC:                             803.1\n",
       "Df Residuals:                     223   BIC:                             820.2\n",
       "Df Model:                           4                                         \n",
       "Covariance Type:            nonrobust                                         \n",
       "==============================================================================\n",
       "                 coef    std err          t      P>|t|      [95.0% Conf. Int.]\n",
       "------------------------------------------------------------------------------\n",
       "Intercept     15.0825      0.092    163.514      0.000        14.901    15.264\n",
       "P1            -1.0740      0.064    -16.704      0.000        -1.201    -0.947\n",
       "P2            -1.5425      0.086    -17.869      0.000        -1.713    -1.372\n",
       "P3             1.4957      0.128     11.660      0.000         1.243     1.749\n",
       "P4             0.3973      0.173      2.292      0.023         0.056     0.739\n",
       "==============================================================================\n",
       "Omnibus:                       27.820   Durbin-Watson:                   2.147\n",
       "Prob(Omnibus):                  0.000   Jarque-Bera (JB):              155.964\n",
       "Skew:                           0.047   Prob(JB):                     1.36e-34\n",
       "Kurtosis:                       7.051   Cond. No.                         2.70\n",
       "==============================================================================\n",
       "\n",
       "Warnings:\n",
       "[1] Standard Errors assume that the covariance matrix of the errors is correctly specified.\n",
       "\"\"\""
      ]
     },
     "execution_count": 18,
     "metadata": {},
     "output_type": "execute_result"
    }
   ],
   "source": [
    "lmData=pd.DataFrame(P[:,:])\n",
    "lmData.columns=['P1','P2','P3','P4']\n",
    "lmData['Y']=Y.transpose()\n",
    "lm_pca = smf.ols(formula='Y ~ P1+P2+P3+P4',data=lmData).fit()\n",
    "lm_pca.summary()"
   ]
  },
  {
   "cell_type": "code",
   "execution_count": 19,
   "metadata": {
    "collapsed": false
   },
   "outputs": [
    {
     "name": "stdout",
     "output_type": "stream",
     "text": [
      "R2_PCA=0.768317684126\n"
     ]
    }
   ],
   "source": [
    "R2_pca = lm_pca.rsquared\n",
    "print('R2_PCA={0}'.format(R2_pca))"
   ]
  },
  {
   "cell_type": "code",
   "execution_count": 20,
   "metadata": {
    "collapsed": false
   },
   "outputs": [
    {
     "data": {
      "text/plain": [
       "<matplotlib.text.Text at 0x10ad7bcd0>"
      ]
     },
     "execution_count": 20,
     "metadata": {},
     "output_type": "execute_result"
    },
    {
     "data": {
      "image/png": "[encoded data removed]",
      "text/plain": [
       "<matplotlib.figure.Figure at 0x10aa11a90>"
      ]
     },
     "metadata": {},
     "output_type": "display_data"
    }
   ],
   "source": [
    "plt.scatter(lm_pca.predict(lmData),lmData.Y)\n",
    "plt.plot(lmData.Y,lmData.Y,'r')\n",
    "plt.title('Prediction of normalized data after PCA')"
   ]
  },
  {
   "cell_type": "markdown",
   "metadata": {},
   "source": [
    "### PCA doesn't help as much for our normalized dataset. Then it's okay to conclude that our custom approach is appropriate."
   ]
  },
  {
   "cell_type": "code",
   "execution_count": null,
   "metadata": {
    "collapsed": true
   },
   "outputs": [],
   "source": []
  }
 ],
 "metadata": {
  "kernelspec": {
   "display_name": "Python 2",
   "language": "python",
   "name": "python2"
  },
  "language_info": {
   "codemirror_mode": {
    "name": "ipython",
    "version": 2
   },
   "file_extension": ".py",
   "mimetype": "text/x-python",
   "name": "python",
   "nbconvert_exporter": "python",
   "pygments_lexer": "ipython2",
   "version": "2.7.10"
  }
 },
 "nbformat": 4,
 "nbformat_minor": 0
}
