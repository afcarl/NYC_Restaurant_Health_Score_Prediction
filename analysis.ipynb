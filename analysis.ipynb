{
 "cells": [
  {
   "cell_type": "code",
   "execution_count": 1,
   "metadata": {
    "collapsed": false
   },
   "outputs": [
    {
     "name": "stdout",
     "output_type": "stream",
     "text": [
      "Populating the interactive namespace from numpy and matplotlib\n"
     ]
    }
   ],
   "source": [
    "import sys\n",
    "import csv\n",
    "from scipy import stats\n",
    "import statsmodels.formula.api as smf\n",
    "import pandas as pd\n",
    "import numpy as np\n",
    "import matplotlib.pyplot as plt\n",
    "from sklearn.decomposition import PCA\n",
    "%pylab inline"
   ]
  },
  {
   "cell_type": "code",
   "execution_count": 2,
   "metadata": {
    "collapsed": false
   },
   "outputs": [
    {
     "data": {
      "text/plain": [
       "<matplotlib.text.Text at 0x10b1bced0>"
      ]
     },
     "execution_count": 2,
     "metadata": {},
     "output_type": "execute_result"
    },
    {
     "data": {
      "image/png": "[encoded data removed]",
      "text/plain": [
       "<matplotlib.figure.Figure at 0x10b0e1f10>"
      ]
     },
     "metadata": {},
     "output_type": "display_data"
    }
   ],
   "source": [
    "data = pd.read_csv('data_result/Merged.csv')\n",
    "plt.hist(data.avg_score,10)\n",
    "plt.title('Histogram of the average health scores for NYC restaurants')"
   ]
  },
  {
   "cell_type": "code",
   "execution_count": 3,
   "metadata": {
    "collapsed": false
   },
   "outputs": [
    {
     "data": {
      "text/plain": [
       "(array([  1.,   0.,   1.,   1.,   3.,   4.,  27.,  79.,  56.,  10.]),\n",
       " array([  6.        ,   7.18095238,   8.36190476,   9.54285714,\n",
       "         10.72380952,  11.9047619 ,  13.08571429,  14.26666667,\n",
       "         15.44761905,  16.62857143,  17.80952381]),\n",
       " <a list of 10 Patch objects>)"
      ]
     },
     "execution_count": 3,
     "metadata": {},
     "output_type": "execute_result"
    },
    {
     "data": {
      "image/png": "[encoded data removed]",
      "text/plain": [
       "<matplotlib.figure.Figure at 0x10b2a88d0>"
      ]
     },
     "metadata": {},
     "output_type": "display_data"
    }
   ],
   "source": [
    "data = data[data['num_restaurants']>10]\n",
    "data.drop(['Unnamed: 0'], axis=1, inplace=True)\n",
    "plt.hist(data.avg_score,10)"
   ]
  },
  {
   "cell_type": "code",
   "execution_count": 4,
   "metadata": {
    "collapsed": true
   },
   "outputs": [],
   "source": [
    "components = ['bar_score', 'bar_revcount', 'rest_score',\n",
    "       'rest_revcount', 'num_complaints', 'num_food_est', 'num_food_poi',\n",
    "       'num_smoking', 'num_restaurants', 'num_violations',\n",
    "       'num_Cviolations', 'num_amer', 'num_chi', 'num_jap', 'num_cafe',\n",
    "       'num_ita', 'num_latin', 'num_mex', 'num_pizza', 'num_span']\n",
    "X = np.array(data[components])\n",
    "pca = PCA(n_components=8, whiten=True).fit(X)\n",
    "X_pca = pca.transform(X)"
   ]
  },
  {
   "cell_type": "code",
   "execution_count": 5,
   "metadata": {
    "collapsed": false
   },
   "outputs": [
    {
     "data": {
      "text/html": [
       "<table class=\"simpletable\">\n",
       "<caption>OLS Regression Results</caption>\n",
       "<tr>\n",
       "  <th>Dep. Variable:</th>            <td>Y</td>        <th>  R-squared:         </th> <td>   0.350</td>\n",
       "</tr>\n",
       "<tr>\n",
       "  <th>Model:</th>                   <td>OLS</td>       <th>  Adj. R-squared:    </th> <td>   0.303</td>\n",
       "</tr>\n",
       "<tr>\n",
       "  <th>Method:</th>             <td>Least Squares</td>  <th>  F-statistic:       </th> <td>   7.464</td>\n",
       "</tr>\n",
       "<tr>\n",
       "  <th>Date:</th>             <td>Sun, 15 Nov 2015</td> <th>  Prob (F-statistic):</th> <td>6.32e-08</td>\n",
       "</tr>\n",
       "<tr>\n",
       "  <th>Time:</th>                 <td>21:36:00</td>     <th>  Log-Likelihood:    </th> <td> -181.73</td>\n",
       "</tr>\n",
       "<tr>\n",
       "  <th>No. Observations:</th>      <td>   120</td>      <th>  AIC:               </th> <td>   381.5</td>\n",
       "</tr>\n",
       "<tr>\n",
       "  <th>Df Residuals:</th>          <td>   111</td>      <th>  BIC:               </th> <td>   406.5</td>\n",
       "</tr>\n",
       "<tr>\n",
       "  <th>Df Model:</th>              <td>     8</td>      <th>                     </th>     <td> </td>   \n",
       "</tr>\n",
       "<tr>\n",
       "  <th>Covariance Type:</th>      <td>nonrobust</td>    <th>                     </th>     <td> </td>   \n",
       "</tr>\n",
       "</table>\n",
       "<table class=\"simpletable\">\n",
       "<tr>\n",
       "      <td></td>         <th>coef</th>     <th>std err</th>      <th>t</th>      <th>P>|t|</th> <th>[95.0% Conf. Int.]</th> \n",
       "</tr>\n",
       "<tr>\n",
       "  <th>Intercept</th> <td>   14.9667</td> <td>    0.107</td> <td>  140.512</td> <td> 0.000</td> <td>   14.756    15.178</td>\n",
       "</tr>\n",
       "<tr>\n",
       "  <th>P1</th>        <td>    0.3810</td> <td>    0.112</td> <td>    3.414</td> <td> 0.001</td> <td>    0.160     0.602</td>\n",
       "</tr>\n",
       "<tr>\n",
       "  <th>P2</th>        <td>    0.4861</td> <td>    0.100</td> <td>    4.840</td> <td> 0.000</td> <td>    0.287     0.685</td>\n",
       "</tr>\n",
       "<tr>\n",
       "  <th>P3</th>        <td>   -0.0375</td> <td>    0.109</td> <td>   -0.344</td> <td> 0.731</td> <td>   -0.253     0.178</td>\n",
       "</tr>\n",
       "<tr>\n",
       "  <th>P4</th>        <td>   -0.2872</td> <td>    0.095</td> <td>   -3.027</td> <td> 0.003</td> <td>   -0.475    -0.099</td>\n",
       "</tr>\n",
       "<tr>\n",
       "  <th>P5</th>        <td>    0.0058</td> <td>    0.106</td> <td>    0.055</td> <td> 0.957</td> <td>   -0.205     0.217</td>\n",
       "</tr>\n",
       "<tr>\n",
       "  <th>P6</th>        <td>    0.0224</td> <td>    0.208</td> <td>    0.108</td> <td> 0.914</td> <td>   -0.389     0.434</td>\n",
       "</tr>\n",
       "<tr>\n",
       "  <th>P7</th>        <td>    0.2555</td> <td>    0.124</td> <td>    2.060</td> <td> 0.042</td> <td>    0.010     0.501</td>\n",
       "</tr>\n",
       "<tr>\n",
       "  <th>P8</th>        <td>    0.1443</td> <td>    0.116</td> <td>    1.244</td> <td> 0.216</td> <td>   -0.086     0.374</td>\n",
       "</tr>\n",
       "</table>\n",
       "<table class=\"simpletable\">\n",
       "<tr>\n",
       "  <th>Omnibus:</th>       <td>26.757</td> <th>  Durbin-Watson:     </th> <td>   1.765</td>\n",
       "</tr>\n",
       "<tr>\n",
       "  <th>Prob(Omnibus):</th> <td> 0.000</td> <th>  Jarque-Bera (JB):  </th> <td>  75.627</td>\n",
       "</tr>\n",
       "<tr>\n",
       "  <th>Skew:</th>          <td>-0.774</td> <th>  Prob(JB):          </th> <td>3.78e-17</td>\n",
       "</tr>\n",
       "<tr>\n",
       "  <th>Kurtosis:</th>      <td> 6.568</td> <th>  Cond. No.          </th> <td>    2.44</td>\n",
       "</tr>\n",
       "</table>"
      ],
      "text/plain": [
       "<class 'statsmodels.iolib.summary.Summary'>\n",
       "\"\"\"\n",
       "                            OLS Regression Results                            \n",
       "==============================================================================\n",
       "Dep. Variable:                      Y   R-squared:                       0.350\n",
       "Model:                            OLS   Adj. R-squared:                  0.303\n",
       "Method:                 Least Squares   F-statistic:                     7.464\n",
       "Date:                Sun, 15 Nov 2015   Prob (F-statistic):           6.32e-08\n",
       "Time:                        21:36:00   Log-Likelihood:                -181.73\n",
       "No. Observations:                 120   AIC:                             381.5\n",
       "Df Residuals:                     111   BIC:                             406.5\n",
       "Df Model:                           8                                         \n",
       "Covariance Type:            nonrobust                                         \n",
       "==============================================================================\n",
       "                 coef    std err          t      P>|t|      [95.0% Conf. Int.]\n",
       "------------------------------------------------------------------------------\n",
       "Intercept     14.9667      0.107    140.512      0.000        14.756    15.178\n",
       "P1             0.3810      0.112      3.414      0.001         0.160     0.602\n",
       "P2             0.4861      0.100      4.840      0.000         0.287     0.685\n",
       "P3            -0.0375      0.109     -0.344      0.731        -0.253     0.178\n",
       "P4            -0.2872      0.095     -3.027      0.003        -0.475    -0.099\n",
       "P5             0.0058      0.106      0.055      0.957        -0.205     0.217\n",
       "P6             0.0224      0.208      0.108      0.914        -0.389     0.434\n",
       "P7             0.2555      0.124      2.060      0.042         0.010     0.501\n",
       "P8             0.1443      0.116      1.244      0.216        -0.086     0.374\n",
       "==============================================================================\n",
       "Omnibus:                       26.757   Durbin-Watson:                   1.765\n",
       "Prob(Omnibus):                  0.000   Jarque-Bera (JB):               75.627\n",
       "Skew:                          -0.774   Prob(JB):                     3.78e-17\n",
       "Kurtosis:                       6.568   Cond. No.                         2.44\n",
       "==============================================================================\n",
       "\n",
       "Warnings:\n",
       "[1] Standard Errors assume that the covariance matrix of the errors is correctly specified.\n",
       "\"\"\""
      ]
     },
     "execution_count": 5,
     "metadata": {},
     "output_type": "execute_result"
    }
   ],
   "source": [
    "lmData=pd.DataFrame(columns=['P1','P2','P3','P4','P5','P6','P7','P8'])\n",
    "i = 0\n",
    "for col in lmData.columns:\n",
    "    lmData[col] = X_pca[:,i]\n",
    "    i += 1\n",
    "lmData['Y'] = data['avg_score'].tolist()\n",
    "lmData = lmData.reindex(np.random.permutation(lmData.index))\n",
    "train = lmData[0:120]\n",
    "valid = lmData[121::]\n",
    "lm_pca = smf.ols(formula='Y ~ P1+P2+P3+P4+P5+P6+P7+P8',data=train).fit()\n",
    "lm_pca.summary()"
   ]
  },
  {
   "cell_type": "code",
   "execution_count": 6,
   "metadata": {
    "collapsed": false
   },
   "outputs": [
    {
     "name": "stdout",
     "output_type": "stream",
     "text": [
      "Validation R2=0.154560455592\n"
     ]
    }
   ],
   "source": [
    "r2=[lm_pca.rsquared]\n",
    "lmy2 = lm_pca.predict(valid)\n",
    "R2v=1-sum(pow(lmy2-valid.Y,2))/sum(pow(valid.Y-mean(valid.Y),2))\n",
    "print('Validation R2={0}'.format(R2v))"
   ]
  },
  {
   "cell_type": "code",
   "execution_count": 7,
   "metadata": {
    "collapsed": false
   },
   "outputs": [
    {
     "data": {
      "text/plain": [
       "<matplotlib.text.Text at 0x10b6cbb90>"
      ]
     },
     "execution_count": 7,
     "metadata": {},
     "output_type": "execute_result"
    },
    {
     "data": {
      "image/png": "[encoded data removed]",
      "text/plain": [
       "<matplotlib.figure.Figure at 0x10b5b0790>"
      ]
     },
     "metadata": {},
     "output_type": "display_data"
    }
   ],
   "source": [
    "plt.scatter(lm_pca.predict(lmData),lmData.Y)\n",
    "plt.plot(lmData.Y,lmData.Y,'r')\n",
    "plt.title('Prediction of unnormalized data after PCA')\n",
    "plt.xlabel('Predicted average score in each zip code')\n",
    "plt.ylabel('Actual average score in each zip code')"
   ]
  },
  {
   "cell_type": "code",
   "execution_count": 8,
   "metadata": {
    "collapsed": true
   },
   "outputs": [],
   "source": [
    "normlist = ['num_complaints', 'num_food_est', 'num_food_poi','num_smoking', 'num_violations','num_Cviolations', \n",
    "            'num_amer', 'num_chi', 'num_jap', 'num_cafe','num_ita', 'num_latin', 'num_mex', 'num_pizza', 'num_span']"
   ]
  },
  {
   "cell_type": "code",
   "execution_count": 9,
   "metadata": {
    "collapsed": true
   },
   "outputs": [],
   "source": [
    "for i in normlist:\n",
    "    data[i] = data[i]/data['num_restaurants']\n",
    "X = np.array(data[components])\n",
    "pca = PCA(n_components=8, whiten=True).fit(X)\n",
    "X_pca = pca.transform(X)"
   ]
  },
  {
   "cell_type": "code",
   "execution_count": 10,
   "metadata": {
    "collapsed": false
   },
   "outputs": [
    {
     "data": {
      "text/html": [
       "<table class=\"simpletable\">\n",
       "<caption>OLS Regression Results</caption>\n",
       "<tr>\n",
       "  <th>Dep. Variable:</th>            <td>Y</td>        <th>  R-squared:         </th> <td>   0.747</td>\n",
       "</tr>\n",
       "<tr>\n",
       "  <th>Model:</th>                   <td>OLS</td>       <th>  Adj. R-squared:    </th> <td>   0.735</td>\n",
       "</tr>\n",
       "<tr>\n",
       "  <th>Method:</th>             <td>Least Squares</td>  <th>  F-statistic:       </th> <td>   63.86</td>\n",
       "</tr>\n",
       "<tr>\n",
       "  <th>Date:</th>             <td>Sun, 15 Nov 2015</td> <th>  Prob (F-statistic):</th> <td>1.13e-47</td>\n",
       "</tr>\n",
       "<tr>\n",
       "  <th>Time:</th>                 <td>21:36:04</td>     <th>  Log-Likelihood:    </th> <td> -192.86</td>\n",
       "</tr>\n",
       "<tr>\n",
       "  <th>No. Observations:</th>      <td>   182</td>      <th>  AIC:               </th> <td>   403.7</td>\n",
       "</tr>\n",
       "<tr>\n",
       "  <th>Df Residuals:</th>          <td>   173</td>      <th>  BIC:               </th> <td>   432.6</td>\n",
       "</tr>\n",
       "<tr>\n",
       "  <th>Df Model:</th>              <td>     8</td>      <th>                     </th>     <td> </td>   \n",
       "</tr>\n",
       "<tr>\n",
       "  <th>Covariance Type:</th>      <td>nonrobust</td>    <th>                     </th>     <td> </td>   \n",
       "</tr>\n",
       "</table>\n",
       "<table class=\"simpletable\">\n",
       "<tr>\n",
       "      <td></td>         <th>coef</th>     <th>std err</th>      <th>t</th>      <th>P>|t|</th> <th>[95.0% Conf. Int.]</th> \n",
       "</tr>\n",
       "<tr>\n",
       "  <th>Intercept</th> <td>   14.9927</td> <td>    0.053</td> <td>  282.438</td> <td> 0.000</td> <td>   14.888    15.097</td>\n",
       "</tr>\n",
       "<tr>\n",
       "  <th>P1</th>        <td>    0.0282</td> <td>    0.053</td> <td>    0.531</td> <td> 0.596</td> <td>   -0.077     0.133</td>\n",
       "</tr>\n",
       "<tr>\n",
       "  <th>P2</th>        <td>   -0.4697</td> <td>    0.053</td> <td>   -8.848</td> <td> 0.000</td> <td>   -0.574    -0.365</td>\n",
       "</tr>\n",
       "<tr>\n",
       "  <th>P3</th>        <td>    0.1959</td> <td>    0.053</td> <td>    3.691</td> <td> 0.000</td> <td>    0.091     0.301</td>\n",
       "</tr>\n",
       "<tr>\n",
       "  <th>P4</th>        <td>    1.0629</td> <td>    0.053</td> <td>   20.023</td> <td> 0.000</td> <td>    0.958     1.168</td>\n",
       "</tr>\n",
       "<tr>\n",
       "  <th>P5</th>        <td>    0.1369</td> <td>    0.053</td> <td>    2.579</td> <td> 0.011</td> <td>    0.032     0.242</td>\n",
       "</tr>\n",
       "<tr>\n",
       "  <th>P6</th>        <td>    0.1619</td> <td>    0.053</td> <td>    3.050</td> <td> 0.003</td> <td>    0.057     0.267</td>\n",
       "</tr>\n",
       "<tr>\n",
       "  <th>P7</th>        <td>    0.0574</td> <td>    0.053</td> <td>    1.081</td> <td> 0.281</td> <td>   -0.047     0.162</td>\n",
       "</tr>\n",
       "<tr>\n",
       "  <th>P8</th>        <td>    0.0421</td> <td>    0.053</td> <td>    0.794</td> <td> 0.428</td> <td>   -0.063     0.147</td>\n",
       "</tr>\n",
       "</table>\n",
       "<table class=\"simpletable\">\n",
       "<tr>\n",
       "  <th>Omnibus:</th>       <td> 7.746</td> <th>  Durbin-Watson:     </th> <td>   2.236</td>\n",
       "</tr>\n",
       "<tr>\n",
       "  <th>Prob(Omnibus):</th> <td> 0.021</td> <th>  Jarque-Bera (JB):  </th> <td>  14.091</td>\n",
       "</tr>\n",
       "<tr>\n",
       "  <th>Skew:</th>          <td> 0.058</td> <th>  Prob(JB):          </th> <td>0.000871</td>\n",
       "</tr>\n",
       "<tr>\n",
       "  <th>Kurtosis:</th>      <td> 4.358</td> <th>  Cond. No.          </th> <td>    1.00</td>\n",
       "</tr>\n",
       "</table>"
      ],
      "text/plain": [
       "<class 'statsmodels.iolib.summary.Summary'>\n",
       "\"\"\"\n",
       "                            OLS Regression Results                            \n",
       "==============================================================================\n",
       "Dep. Variable:                      Y   R-squared:                       0.747\n",
       "Model:                            OLS   Adj. R-squared:                  0.735\n",
       "Method:                 Least Squares   F-statistic:                     63.86\n",
       "Date:                Sun, 15 Nov 2015   Prob (F-statistic):           1.13e-47\n",
       "Time:                        21:36:04   Log-Likelihood:                -192.86\n",
       "No. Observations:                 182   AIC:                             403.7\n",
       "Df Residuals:                     173   BIC:                             432.6\n",
       "Df Model:                           8                                         \n",
       "Covariance Type:            nonrobust                                         \n",
       "==============================================================================\n",
       "                 coef    std err          t      P>|t|      [95.0% Conf. Int.]\n",
       "------------------------------------------------------------------------------\n",
       "Intercept     14.9927      0.053    282.438      0.000        14.888    15.097\n",
       "P1             0.0282      0.053      0.531      0.596        -0.077     0.133\n",
       "P2            -0.4697      0.053     -8.848      0.000        -0.574    -0.365\n",
       "P3             0.1959      0.053      3.691      0.000         0.091     0.301\n",
       "P4             1.0629      0.053     20.023      0.000         0.958     1.168\n",
       "P5             0.1369      0.053      2.579      0.011         0.032     0.242\n",
       "P6             0.1619      0.053      3.050      0.003         0.057     0.267\n",
       "P7             0.0574      0.053      1.081      0.281        -0.047     0.162\n",
       "P8             0.0421      0.053      0.794      0.428        -0.063     0.147\n",
       "==============================================================================\n",
       "Omnibus:                        7.746   Durbin-Watson:                   2.236\n",
       "Prob(Omnibus):                  0.021   Jarque-Bera (JB):               14.091\n",
       "Skew:                           0.058   Prob(JB):                     0.000871\n",
       "Kurtosis:                       4.358   Cond. No.                         1.00\n",
       "==============================================================================\n",
       "\n",
       "Warnings:\n",
       "[1] Standard Errors assume that the covariance matrix of the errors is correctly specified.\n",
       "\"\"\""
      ]
     },
     "execution_count": 10,
     "metadata": {},
     "output_type": "execute_result"
    }
   ],
   "source": [
    "lmData=pd.DataFrame(columns=['P1','P2','P3','P4','P5','P6','P7','P8'])\n",
    "i = 0\n",
    "for col in lmData.columns:\n",
    "    lmData[col] = X_pca[:,i]\n",
    "    i += 1\n",
    "lmData['zip'] = data['zip'].tolist()\n",
    "lmData['Y'] = data['avg_score'].tolist()\n",
    "lmData = lmData.reindex(np.random.permutation(lmData.index))\n",
    "train = lmData[0:120]\n",
    "valid = lmData[121::]\n",
    "lm_pca = smf.ols(formula='Y ~ P1+P2+P3+P4+P5+P6+P7+P8',data=lmData).fit()\n",
    "lm_pca.summary()"
   ]
  },
  {
   "cell_type": "code",
   "execution_count": 11,
   "metadata": {
    "collapsed": false
   },
   "outputs": [
    {
     "name": "stdout",
     "output_type": "stream",
     "text": [
      "Validation R2=0.857285103309\n"
     ]
    }
   ],
   "source": [
    "r2=[lm_pca.rsquared]\n",
    "lmy2 = lm_pca.predict(valid)\n",
    "R2v=1-sum(pow(lmy2-valid.Y,2))/sum(pow(valid.Y-mean(valid.Y),2))\n",
    "print('Validation R2={0}'.format(R2v))"
   ]
  },
  {
   "cell_type": "code",
   "execution_count": 12,
   "metadata": {
    "collapsed": false
   },
   "outputs": [
    {
     "data": {
      "text/plain": [
       "<matplotlib.text.Text at 0x10c971c10>"
      ]
     },
     "execution_count": 12,
     "metadata": {},
     "output_type": "execute_result"
    },
    {
     "data": {
      "image/png": "[encoded data removed]",
      "text/plain": [
       "<matplotlib.figure.Figure at 0x10b5d9810>"
      ]
     },
     "metadata": {},
     "output_type": "display_data"
    }
   ],
   "source": [
    "plt.scatter(lm_pca.predict(lmData),lmData.Y)\n",
    "plt.plot(lmData.Y,lmData.Y,'r')\n",
    "plt.title('Prediction of normalized data after PCA (8 regs)')\n",
    "plt.xlabel('Predicted average score in each zip code')\n",
    "plt.ylabel('Actual average score in each zip code')"
   ]
  },
  {
   "cell_type": "code",
   "execution_count": 13,
   "metadata": {
    "collapsed": false
   },
   "outputs": [
    {
     "data": {
      "text/html": [
       "<table class=\"simpletable\">\n",
       "<caption>OLS Regression Results</caption>\n",
       "<tr>\n",
       "  <th>Dep. Variable:</th>            <td>Y</td>        <th>  R-squared:         </th> <td>   0.744</td>\n",
       "</tr>\n",
       "<tr>\n",
       "  <th>Model:</th>                   <td>OLS</td>       <th>  Adj. R-squared:    </th> <td>   0.737</td>\n",
       "</tr>\n",
       "<tr>\n",
       "  <th>Method:</th>             <td>Least Squares</td>  <th>  F-statistic:       </th> <td>   102.3</td>\n",
       "</tr>\n",
       "<tr>\n",
       "  <th>Date:</th>             <td>Sun, 15 Nov 2015</td> <th>  Prob (F-statistic):</th> <td>3.47e-50</td>\n",
       "</tr>\n",
       "<tr>\n",
       "  <th>Time:</th>                 <td>21:36:08</td>     <th>  Log-Likelihood:    </th> <td> -193.95</td>\n",
       "</tr>\n",
       "<tr>\n",
       "  <th>No. Observations:</th>      <td>   182</td>      <th>  AIC:               </th> <td>   399.9</td>\n",
       "</tr>\n",
       "<tr>\n",
       "  <th>Df Residuals:</th>          <td>   176</td>      <th>  BIC:               </th> <td>   419.1</td>\n",
       "</tr>\n",
       "<tr>\n",
       "  <th>Df Model:</th>              <td>     5</td>      <th>                     </th>     <td> </td>   \n",
       "</tr>\n",
       "<tr>\n",
       "  <th>Covariance Type:</th>      <td>nonrobust</td>    <th>                     </th>     <td> </td>   \n",
       "</tr>\n",
       "</table>\n",
       "<table class=\"simpletable\">\n",
       "<tr>\n",
       "      <td></td>         <th>coef</th>     <th>std err</th>      <th>t</th>      <th>P>|t|</th> <th>[95.0% Conf. Int.]</th> \n",
       "</tr>\n",
       "<tr>\n",
       "  <th>Intercept</th> <td>   14.9927</td> <td>    0.053</td> <td>  283.179</td> <td> 0.000</td> <td>   14.888    15.097</td>\n",
       "</tr>\n",
       "<tr>\n",
       "  <th>P2</th>        <td>   -0.4697</td> <td>    0.053</td> <td>   -8.871</td> <td> 0.000</td> <td>   -0.574    -0.365</td>\n",
       "</tr>\n",
       "<tr>\n",
       "  <th>P3</th>        <td>    0.1959</td> <td>    0.053</td> <td>    3.701</td> <td> 0.000</td> <td>    0.091     0.300</td>\n",
       "</tr>\n",
       "<tr>\n",
       "  <th>P4</th>        <td>    1.0629</td> <td>    0.053</td> <td>   20.075</td> <td> 0.000</td> <td>    0.958     1.167</td>\n",
       "</tr>\n",
       "<tr>\n",
       "  <th>P5</th>        <td>    0.1369</td> <td>    0.053</td> <td>    2.585</td> <td> 0.011</td> <td>    0.032     0.241</td>\n",
       "</tr>\n",
       "<tr>\n",
       "  <th>P6</th>        <td>    0.1619</td> <td>    0.053</td> <td>    3.058</td> <td> 0.003</td> <td>    0.057     0.266</td>\n",
       "</tr>\n",
       "</table>\n",
       "<table class=\"simpletable\">\n",
       "<tr>\n",
       "  <th>Omnibus:</th>       <td> 7.406</td> <th>  Durbin-Watson:     </th> <td>   2.232</td>\n",
       "</tr>\n",
       "<tr>\n",
       "  <th>Prob(Omnibus):</th> <td> 0.025</td> <th>  Jarque-Bera (JB):  </th> <td>  12.945</td>\n",
       "</tr>\n",
       "<tr>\n",
       "  <th>Skew:</th>          <td> 0.073</td> <th>  Prob(JB):          </th> <td> 0.00155</td>\n",
       "</tr>\n",
       "<tr>\n",
       "  <th>Kurtosis:</th>      <td> 4.298</td> <th>  Cond. No.          </th> <td>    1.00</td>\n",
       "</tr>\n",
       "</table>"
      ],
      "text/plain": [
       "<class 'statsmodels.iolib.summary.Summary'>\n",
       "\"\"\"\n",
       "                            OLS Regression Results                            \n",
       "==============================================================================\n",
       "Dep. Variable:                      Y   R-squared:                       0.744\n",
       "Model:                            OLS   Adj. R-squared:                  0.737\n",
       "Method:                 Least Squares   F-statistic:                     102.3\n",
       "Date:                Sun, 15 Nov 2015   Prob (F-statistic):           3.47e-50\n",
       "Time:                        21:36:08   Log-Likelihood:                -193.95\n",
       "No. Observations:                 182   AIC:                             399.9\n",
       "Df Residuals:                     176   BIC:                             419.1\n",
       "Df Model:                           5                                         \n",
       "Covariance Type:            nonrobust                                         \n",
       "==============================================================================\n",
       "                 coef    std err          t      P>|t|      [95.0% Conf. Int.]\n",
       "------------------------------------------------------------------------------\n",
       "Intercept     14.9927      0.053    283.179      0.000        14.888    15.097\n",
       "P2            -0.4697      0.053     -8.871      0.000        -0.574    -0.365\n",
       "P3             0.1959      0.053      3.701      0.000         0.091     0.300\n",
       "P4             1.0629      0.053     20.075      0.000         0.958     1.167\n",
       "P5             0.1369      0.053      2.585      0.011         0.032     0.241\n",
       "P6             0.1619      0.053      3.058      0.003         0.057     0.266\n",
       "==============================================================================\n",
       "Omnibus:                        7.406   Durbin-Watson:                   2.232\n",
       "Prob(Omnibus):                  0.025   Jarque-Bera (JB):               12.945\n",
       "Skew:                           0.073   Prob(JB):                      0.00155\n",
       "Kurtosis:                       4.298   Cond. No.                         1.00\n",
       "==============================================================================\n",
       "\n",
       "Warnings:\n",
       "[1] Standard Errors assume that the covariance matrix of the errors is correctly specified.\n",
       "\"\"\""
      ]
     },
     "execution_count": 13,
     "metadata": {},
     "output_type": "execute_result"
    }
   ],
   "source": [
    "lm_pca = smf.ols(formula='Y ~ P2+P3+P4+P5+P6',data=lmData).fit()\n",
    "lm_pca.summary()"
   ]
  },
  {
   "cell_type": "code",
   "execution_count": 14,
   "metadata": {
    "collapsed": false
   },
   "outputs": [
    {
     "name": "stdout",
     "output_type": "stream",
     "text": [
      "Validation R2=0.860223281653\n"
     ]
    }
   ],
   "source": [
    "r2=[lm_pca.rsquared]\n",
    "lmy2 = lm_pca.predict(valid)\n",
    "R2v=1-sum(pow(lmy2-valid.Y,2))/sum(pow(valid.Y-mean(valid.Y),2))\n",
    "print('Validation R2={0}'.format(R2v))"
   ]
  },
  {
   "cell_type": "code",
   "execution_count": 15,
   "metadata": {
    "collapsed": false
   },
   "outputs": [
    {
     "data": {
      "text/plain": [
       "<matplotlib.text.Text at 0x10cb73410>"
      ]
     },
     "execution_count": 15,
     "metadata": {},
     "output_type": "execute_result"
    },
    {
     "data": {
      "image/png": "[encoded data removed]",
      "text/plain": [
       "<matplotlib.figure.Figure at 0x10b7521d0>"
      ]
     },
     "metadata": {},
     "output_type": "display_data"
    }
   ],
   "source": [
    "plt.scatter(lm_pca.predict(lmData),lmData.Y)\n",
    "plt.plot(lmData.Y,lmData.Y,'r')\n",
    "plt.title('Prediction of normalized data after PCA (5 regs)')\n",
    "plt.xlabel('Predicted average score in each zip code')\n",
    "plt.ylabel('Actual average score in each zip code')"
   ]
  },
  {
   "cell_type": "code",
   "execution_count": 16,
   "metadata": {
    "collapsed": false
   },
   "outputs": [
    {
     "data": {
      "text/html": [
       "<div>\n",
       "<table border=\"1\" class=\"dataframe\">\n",
       "  <thead>\n",
       "    <tr style=\"text-align: right;\">\n",
       "      <th></th>\n",
       "      <th>P1</th>\n",
       "      <th>P2</th>\n",
       "      <th>P3</th>\n",
       "      <th>P4</th>\n",
       "      <th>P5</th>\n",
       "      <th>P6</th>\n",
       "      <th>P7</th>\n",
       "      <th>P8</th>\n",
       "      <th>zip</th>\n",
       "      <th>Y</th>\n",
       "      <th>Predicts</th>\n",
       "      <th>Dev_SqDist</th>\n",
       "    </tr>\n",
       "  </thead>\n",
       "  <tbody>\n",
       "    <tr>\n",
       "      <th>7</th>\n",
       "      <td>-1.843991</td>\n",
       "      <td>0.275137</td>\n",
       "      <td>-4.400989</td>\n",
       "      <td>1.008205</td>\n",
       "      <td>-0.149342</td>\n",
       "      <td>-1.690632</td>\n",
       "      <td>0.277857</td>\n",
       "      <td>-0.053619</td>\n",
       "      <td>10009</td>\n",
       "      <td>15.105769</td>\n",
       "      <td>14.778624</td>\n",
       "      <td>0.107024</td>\n",
       "    </tr>\n",
       "    <tr>\n",
       "      <th>68</th>\n",
       "      <td>0.667417</td>\n",
       "      <td>0.059085</td>\n",
       "      <td>0.728879</td>\n",
       "      <td>-1.310939</td>\n",
       "      <td>0.061467</td>\n",
       "      <td>-2.252692</td>\n",
       "      <td>-0.286485</td>\n",
       "      <td>-0.353374</td>\n",
       "      <td>10460</td>\n",
       "      <td>12.876676</td>\n",
       "      <td>13.358075</td>\n",
       "      <td>0.231745</td>\n",
       "    </tr>\n",
       "    <tr>\n",
       "      <th>33</th>\n",
       "      <td>-3.158710</td>\n",
       "      <td>-1.944425</td>\n",
       "      <td>-0.092736</td>\n",
       "      <td>-0.758138</td>\n",
       "      <td>0.120075</td>\n",
       "      <td>-0.328486</td>\n",
       "      <td>-1.238444</td>\n",
       "      <td>0.073701</td>\n",
       "      <td>10036</td>\n",
       "      <td>15.190687</td>\n",
       "      <td>15.045239</td>\n",
       "      <td>0.021155</td>\n",
       "    </tr>\n",
       "    <tr>\n",
       "      <th>34</th>\n",
       "      <td>0.439290</td>\n",
       "      <td>0.827642</td>\n",
       "      <td>-0.360472</td>\n",
       "      <td>1.126017</td>\n",
       "      <td>1.343299</td>\n",
       "      <td>-1.060975</td>\n",
       "      <td>-0.138954</td>\n",
       "      <td>-0.432108</td>\n",
       "      <td>10037</td>\n",
       "      <td>16.600000</td>\n",
       "      <td>15.742263</td>\n",
       "      <td>0.735712</td>\n",
       "    </tr>\n",
       "    <tr>\n",
       "      <th>172</th>\n",
       "      <td>0.431378</td>\n",
       "      <td>-0.762753</td>\n",
       "      <td>0.681128</td>\n",
       "      <td>-1.829112</td>\n",
       "      <td>-2.122536</td>\n",
       "      <td>1.399070</td>\n",
       "      <td>-1.868214</td>\n",
       "      <td>0.013655</td>\n",
       "      <td>11430</td>\n",
       "      <td>13.225490</td>\n",
       "      <td>13.476287</td>\n",
       "      <td>0.062899</td>\n",
       "    </tr>\n",
       "  </tbody>\n",
       "</table>\n",
       "</div>"
      ],
      "text/plain": [
       "           P1        P2        P3        P4        P5        P6        P7  \\\n",
       "7   -1.843991  0.275137 -4.400989  1.008205 -0.149342 -1.690632  0.277857   \n",
       "68   0.667417  0.059085  0.728879 -1.310939  0.061467 -2.252692 -0.286485   \n",
       "33  -3.158710 -1.944425 -0.092736 -0.758138  0.120075 -0.328486 -1.238444   \n",
       "34   0.439290  0.827642 -0.360472  1.126017  1.343299 -1.060975 -0.138954   \n",
       "172  0.431378 -0.762753  0.681128 -1.829112 -2.122536  1.399070 -1.868214   \n",
       "\n",
       "           P8    zip          Y   Predicts  Dev_SqDist  \n",
       "7   -0.053619  10009  15.105769  14.778624    0.107024  \n",
       "68  -0.353374  10460  12.876676  13.358075    0.231745  \n",
       "33   0.073701  10036  15.190687  15.045239    0.021155  \n",
       "34  -0.432108  10037  16.600000  15.742263    0.735712  \n",
       "172  0.013655  11430  13.225490  13.476287    0.062899  "
      ]
     },
     "execution_count": 16,
     "metadata": {},
     "output_type": "execute_result"
    }
   ],
   "source": [
    "lmData['Predicts'] = lm_pca.predict(lmData)\n",
    "lmData['Dev_SqDist'] = (lm_pca.predict(lmData)-lmData.Y)**2\n",
    "lmData.head()"
   ]
  },
  {
   "cell_type": "code",
   "execution_count": 17,
   "metadata": {
    "collapsed": true
   },
   "outputs": [],
   "source": [
    "lmData.to_csv('data_result/regression.csv')"
   ]
  },
  {
   "cell_type": "code",
   "execution_count": 18,
   "metadata": {
    "collapsed": false
   },
   "outputs": [
    {
     "data": {
      "text/plain": [
       "<matplotlib.text.Text at 0x10cb73190>"
      ]
     },
     "execution_count": 18,
     "metadata": {},
     "output_type": "execute_result"
    },
    {
     "data": {
      "image/png": "[encoded data removed]",
      "text/plain": [
       "<matplotlib.figure.Figure at 0x10b2d0150>"
      ]
     },
     "metadata": {},
     "output_type": "display_data"
    }
   ],
   "source": [
    "plt.hist(lmData.Predicts-lmData.Y,10)\n",
    "plt.title('Histogram of the deviated distances of our predicted scores')"
   ]
  },
  {
   "cell_type": "code",
   "execution_count": null,
   "metadata": {
    "collapsed": true
   },
   "outputs": [],
   "source": []
  }
 ],
 "metadata": {
  "kernelspec": {
   "display_name": "Python 2",
   "language": "python",
   "name": "python2"
  },
  "language_info": {
   "codemirror_mode": {
    "name": "ipython",
    "version": 2
   },
   "file_extension": ".py",
   "mimetype": "text/x-python",
   "name": "python",
   "nbconvert_exporter": "python",
   "pygments_lexer": "ipython2",
   "version": "2.7.10"
  }
 },
 "nbformat": 4,
 "nbformat_minor": 0
}
