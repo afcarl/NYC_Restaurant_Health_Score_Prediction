{
 "cells": [
  {
   "cell_type": "code",
   "execution_count": 1,
   "metadata": {
    "collapsed": true
   },
   "outputs": [],
   "source": [
    "import pandas as pd\n",
    "import numpy as np\n",
    "from sklearn.ensemble import RandomForestRegressor\n",
    "from sklearn.cross_validation import cross_val_score\n",
    "import matplotlib.pyplot as plt\n",
    "%matplotlib inline\n",
    "plt.style.use('fivethirtyeight')\n",
    "plt.rcParams['figure.figsize'] = [8, 5]"
   ]
  },
  {
   "cell_type": "code",
   "execution_count": 2,
   "metadata": {
    "collapsed": true
   },
   "outputs": [],
   "source": [
    "data = pd.read_csv('../output/merged.csv', index_col=0)\n",
    "\n",
    "#Feature engineering\n",
    "normList = ['num_complaints',\n",
    "            'num_food_est',\n",
    "            'num_food_poi',\n",
    "            'num_smoking',\n",
    "            'num_violations',\n",
    "            'num_Cviolations',\n",
    "            'num_amer',\n",
    "            'num_chi',\n",
    "            'num_jap',\n",
    "            'num_cafe',\n",
    "            'num_ita',\n",
    "            'num_latin',\n",
    "            'num_mex',\n",
    "            'num_pizza',\n",
    "            'num_span']\n",
    "\n",
    "for i in normList:\n",
    "    data[i] /= data['num_restaurants']\n",
    "\n",
    "#Randomizing and splitting dataset\n",
    "data = data.reindex(np.random.permutation(data.index))\n",
    "train = data[0:160]\n",
    "test = data[160::]"
   ]
  },
  {
   "cell_type": "code",
   "execution_count": 3,
   "metadata": {
    "collapsed": false
   },
   "outputs": [
    {
     "name": "stdout",
     "output_type": "stream",
     "text": [
      "CV score for 10 estimators: 0.6982\n",
      "CV score for 15 estimators: 0.7228\n",
      "CV score for 20 estimators: 0.7200\n",
      "CV score for 25 estimators: 0.7200\n",
      "CV score for 30 estimators: 0.7267\n",
      "CV score for 35 estimators: 0.7322\n",
      "CV score for 40 estimators: 0.7285\n",
      "CV score for 45 estimators: 0.7270\n",
      "CV score for 50 estimators: 0.7304\n",
      "CV score for 55 estimators: 0.7303\n",
      "CV score for 60 estimators: 0.7324\n",
      "CV score for 65 estimators: 0.7327\n",
      "CV score for 70 estimators: 0.7324\n",
      "CV score for 75 estimators: 0.7324\n",
      "CV score for 80 estimators: 0.7336\n",
      "CV score for 85 estimators: 0.7319\n",
      "CV score for 90 estimators: 0.7319\n",
      "CV score for 95 estimators: 0.7330\n",
      "CV score for 100 estimators: 0.7317\n"
     ]
    }
   ],
   "source": [
    "features = data.columns[:-1].tolist()\n",
    "X,y = train[features],train['avg_score']\n",
    "X_test,y_test = test[features],test['avg_score']\n",
    "\n",
    "#Setting up Random Forest cross validation\n",
    "for i in range(10,101,5):\n",
    "    estimator = RandomForestRegressor(random_state=0, n_estimators=i)\n",
    "    score = np.mean(cross_val_score(estimator, X, y))\n",
    "    print \"CV score for %d estimators: %.4f\" % (i,score)"
   ]
  },
  {
   "cell_type": "markdown",
   "metadata": {},
   "source": [
    "### The best CV score is achieved by using 35 estimators"
   ]
  },
  {
   "cell_type": "code",
   "execution_count": 4,
   "metadata": {
    "collapsed": false
   },
   "outputs": [
    {
     "name": "stdout",
     "output_type": "stream",
     "text": [
      "R2 value of the test set using 35 estimators: 0.7398\n"
     ]
    }
   ],
   "source": [
    "chosenModel = RandomForestRegressor(random_state=0, n_estimators=35).fit(X,y)\n",
    "print 'R2 value of the test set using 35 estimators: %.4f' % chosenModel.score(X_test,y_test)"
   ]
  },
  {
   "cell_type": "code",
   "execution_count": 8,
   "metadata": {
    "collapsed": false
   },
   "outputs": [
    {
     "data": {
      "text/html": [
       "<div>\n",
       "<table border=\"1\" class=\"dataframe\">\n",
       "  <thead>\n",
       "    <tr style=\"text-align: right;\">\n",
       "      <th></th>\n",
       "      <th>bar_rating</th>\n",
       "      <th>bar_rev_count</th>\n",
       "      <th>rest_rating</th>\n",
       "      <th>rest_rev_count</th>\n",
       "      <th>num_complaints</th>\n",
       "      <th>num_food_est</th>\n",
       "      <th>num_food_poi</th>\n",
       "      <th>num_smoking</th>\n",
       "      <th>num_restaurants</th>\n",
       "      <th>num_violations</th>\n",
       "      <th>...</th>\n",
       "      <th>num_jap</th>\n",
       "      <th>num_cafe</th>\n",
       "      <th>num_ita</th>\n",
       "      <th>num_latin</th>\n",
       "      <th>num_mex</th>\n",
       "      <th>num_pizza</th>\n",
       "      <th>num_span</th>\n",
       "      <th>avg_score</th>\n",
       "      <th>Predictions</th>\n",
       "      <th>Dev_SqDists</th>\n",
       "    </tr>\n",
       "  </thead>\n",
       "  <tbody>\n",
       "    <tr>\n",
       "      <th>10001</th>\n",
       "      <td>4.000000</td>\n",
       "      <td>283</td>\n",
       "      <td>4.312500</td>\n",
       "      <td>206</td>\n",
       "      <td>1.796477</td>\n",
       "      <td>1.217221</td>\n",
       "      <td>0.497065</td>\n",
       "      <td>0.060665</td>\n",
       "      <td>511</td>\n",
       "      <td>16.019569</td>\n",
       "      <td>...</td>\n",
       "      <td>0.031311</td>\n",
       "      <td>0.086106</td>\n",
       "      <td>0.023483</td>\n",
       "      <td>0.007828</td>\n",
       "      <td>0.011742</td>\n",
       "      <td>0.039139</td>\n",
       "      <td>0.005871</td>\n",
       "      <td>13.863147</td>\n",
       "      <td>13.997786</td>\n",
       "      <td>0.018128</td>\n",
       "    </tr>\n",
       "    <tr>\n",
       "      <th>10002</th>\n",
       "      <td>4.269231</td>\n",
       "      <td>182</td>\n",
       "      <td>4.437500</td>\n",
       "      <td>304</td>\n",
       "      <td>1.828753</td>\n",
       "      <td>1.287526</td>\n",
       "      <td>0.384778</td>\n",
       "      <td>0.139535</td>\n",
       "      <td>473</td>\n",
       "      <td>19.268499</td>\n",
       "      <td>...</td>\n",
       "      <td>0.027484</td>\n",
       "      <td>0.067653</td>\n",
       "      <td>0.025370</td>\n",
       "      <td>0.025370</td>\n",
       "      <td>0.027484</td>\n",
       "      <td>0.048626</td>\n",
       "      <td>0.012685</td>\n",
       "      <td>16.027441</td>\n",
       "      <td>15.473052</td>\n",
       "      <td>0.307347</td>\n",
       "    </tr>\n",
       "    <tr>\n",
       "      <th>10003</th>\n",
       "      <td>4.066667</td>\n",
       "      <td>375</td>\n",
       "      <td>4.235294</td>\n",
       "      <td>1266</td>\n",
       "      <td>1.983918</td>\n",
       "      <td>1.305556</td>\n",
       "      <td>0.561404</td>\n",
       "      <td>0.086257</td>\n",
       "      <td>684</td>\n",
       "      <td>19.709064</td>\n",
       "      <td>...</td>\n",
       "      <td>0.097953</td>\n",
       "      <td>0.077485</td>\n",
       "      <td>0.059942</td>\n",
       "      <td>0.010234</td>\n",
       "      <td>0.039474</td>\n",
       "      <td>0.036550</td>\n",
       "      <td>0.004386</td>\n",
       "      <td>15.455317</td>\n",
       "      <td>15.612083</td>\n",
       "      <td>0.024575</td>\n",
       "    </tr>\n",
       "    <tr>\n",
       "      <th>10004</th>\n",
       "      <td>3.772727</td>\n",
       "      <td>266</td>\n",
       "      <td>3.958333</td>\n",
       "      <td>370</td>\n",
       "      <td>1.313869</td>\n",
       "      <td>0.956204</td>\n",
       "      <td>0.306569</td>\n",
       "      <td>0.014599</td>\n",
       "      <td>137</td>\n",
       "      <td>16.503650</td>\n",
       "      <td>...</td>\n",
       "      <td>0.021898</td>\n",
       "      <td>0.109489</td>\n",
       "      <td>0.043796</td>\n",
       "      <td>0.014599</td>\n",
       "      <td>0.029197</td>\n",
       "      <td>0.043796</td>\n",
       "      <td>0.000000</td>\n",
       "      <td>14.022528</td>\n",
       "      <td>14.099710</td>\n",
       "      <td>0.005957</td>\n",
       "    </tr>\n",
       "    <tr>\n",
       "      <th>10005</th>\n",
       "      <td>4.000000</td>\n",
       "      <td>70</td>\n",
       "      <td>4.000000</td>\n",
       "      <td>119</td>\n",
       "      <td>1.287879</td>\n",
       "      <td>0.939394</td>\n",
       "      <td>0.287879</td>\n",
       "      <td>0.000000</td>\n",
       "      <td>66</td>\n",
       "      <td>19.000000</td>\n",
       "      <td>...</td>\n",
       "      <td>0.045455</td>\n",
       "      <td>0.121212</td>\n",
       "      <td>0.060606</td>\n",
       "      <td>0.000000</td>\n",
       "      <td>0.000000</td>\n",
       "      <td>0.045455</td>\n",
       "      <td>0.000000</td>\n",
       "      <td>15.389952</td>\n",
       "      <td>15.349893</td>\n",
       "      <td>0.001605</td>\n",
       "    </tr>\n",
       "  </tbody>\n",
       "</table>\n",
       "<p>5 rows × 23 columns</p>\n",
       "</div>"
      ],
      "text/plain": [
       "       bar_rating  bar_rev_count  rest_rating  rest_rev_count  num_complaints  \\\n",
       "10001    4.000000            283     4.312500             206        1.796477   \n",
       "10002    4.269231            182     4.437500             304        1.828753   \n",
       "10003    4.066667            375     4.235294            1266        1.983918   \n",
       "10004    3.772727            266     3.958333             370        1.313869   \n",
       "10005    4.000000             70     4.000000             119        1.287879   \n",
       "\n",
       "       num_food_est  num_food_poi  num_smoking  num_restaurants  \\\n",
       "10001      1.217221      0.497065     0.060665              511   \n",
       "10002      1.287526      0.384778     0.139535              473   \n",
       "10003      1.305556      0.561404     0.086257              684   \n",
       "10004      0.956204      0.306569     0.014599              137   \n",
       "10005      0.939394      0.287879     0.000000               66   \n",
       "\n",
       "       num_violations     ...        num_jap  num_cafe   num_ita  num_latin  \\\n",
       "10001       16.019569     ...       0.031311  0.086106  0.023483   0.007828   \n",
       "10002       19.268499     ...       0.027484  0.067653  0.025370   0.025370   \n",
       "10003       19.709064     ...       0.097953  0.077485  0.059942   0.010234   \n",
       "10004       16.503650     ...       0.021898  0.109489  0.043796   0.014599   \n",
       "10005       19.000000     ...       0.045455  0.121212  0.060606   0.000000   \n",
       "\n",
       "        num_mex  num_pizza  num_span  avg_score  Predictions  Dev_SqDists  \n",
       "10001  0.011742   0.039139  0.005871  13.863147    13.997786     0.018128  \n",
       "10002  0.027484   0.048626  0.012685  16.027441    15.473052     0.307347  \n",
       "10003  0.039474   0.036550  0.004386  15.455317    15.612083     0.024575  \n",
       "10004  0.029197   0.043796  0.000000  14.022528    14.099710     0.005957  \n",
       "10005  0.000000   0.045455  0.000000  15.389952    15.349893     0.001605  \n",
       "\n",
       "[5 rows x 23 columns]"
      ]
     },
     "execution_count": 8,
     "metadata": {},
     "output_type": "execute_result"
    }
   ],
   "source": [
    "X_whole,y_whole = data[features],data['avg_score']\n",
    "X_preds = chosenModel.predict(X_whole)\n",
    "df_model = pd.DataFrame(data=data, index=data.index)\n",
    "df_model['Predictions'] = X_preds\n",
    "df_model['Dev_SqDists'] = (X_preds-df_model['avg_score'])**2\n",
    "df_model = df_model.sort_index()\n",
    "df_model.to_csv('../output/RandomForest.csv')\n",
    "df_model.head()"
   ]
  },
  {
   "cell_type": "code",
   "execution_count": 12,
   "metadata": {
    "collapsed": false
   },
   "outputs": [
    {
     "name": "stdout",
     "output_type": "stream",
     "text": [
      "R2 value of the whole set using 35 estimators: 0.9144\n"
     ]
    }
   ],
   "source": [
    "print 'R2 value of the whole set using 35 estimators: %.4f' % chosenModel.score(X_whole,y_whole)"
   ]
  },
  {
   "cell_type": "code",
   "execution_count": 14,
   "metadata": {
    "collapsed": false
   },
   "outputs": [
    {
     "data": {
      "image/png": "[encoded data removed]",
      "text/plain": [
       "<matplotlib.figure.Figure at 0x109f2ba10>"
      ]
     },
     "metadata": {},
     "output_type": "display_data"
    }
   ],
   "source": [
    "plt.scatter(chosenModel.predict(X_whole),y_whole)\n",
    "plt.plot(y_whole,y_whole,'r',linewidth=1.5)\n",
    "plt.title('Prediction by Random Forest (35 estimators): R2=%.2f' % chosenModel.score(X_whole,y_whole))\n",
    "plt.xlabel('Predicted average score in each zip code')\n",
    "plt.ylabel('Actual average score in each zip code')\n",
    "plt.savefig('../figures/RandomForest_35.png')\n",
    "plt.show()"
   ]
  },
  {
   "cell_type": "code",
   "execution_count": 11,
   "metadata": {
    "collapsed": false
   },
   "outputs": [
    {
     "data": {
      "image/png": "[encoded data removed]",
      "text/plain": [
       "<matplotlib.figure.Figure at 0x109c69950>"
      ]
     },
     "metadata": {},
     "output_type": "display_data"
    }
   ],
   "source": [
    "plt.hist(df_model.Predictions.values-df_model.avg_score.values,10)\n",
    "plt.title('Histogram of the deviated distances (Random Forest)')\n",
    "plt.savefig('../figures/RandomForest_hist.png')\n",
    "plt.show()"
   ]
  },
  {
   "cell_type": "code",
   "execution_count": null,
   "metadata": {
    "collapsed": true
   },
   "outputs": [],
   "source": []
  }
 ],
 "metadata": {
  "kernelspec": {
   "display_name": "Python 2",
   "language": "python",
   "name": "python2"
  },
  "language_info": {
   "codemirror_mode": {
    "name": "ipython",
    "version": 2
   },
   "file_extension": ".py",
   "mimetype": "text/x-python",
   "name": "python",
   "nbconvert_exporter": "python",
   "pygments_lexer": "ipython2",
   "version": "2.7.10"
  }
 },
 "nbformat": 4,
 "nbformat_minor": 0
}
